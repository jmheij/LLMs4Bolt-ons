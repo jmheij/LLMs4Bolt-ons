{
 "cells": [
  {
   "cell_type": "code",
   "execution_count": null,
   "id": "9f1df138",
   "metadata": {},
   "outputs": [],
   "source": [
    "import pandas as pd\n",
    "import stanza\n",
    "import re\n",
    "import os\n",
    "from tqdm import tqdm\n"
   ]
  },
  {
   "cell_type": "code",
   "execution_count": null,
   "id": "ef6ed338",
   "metadata": {},
   "outputs": [],
   "source": [
    "# Download and load Dutch NER model\n",
    "# stanza.download('nl')\n",
    "nlp = stanza.Pipeline(lang='nl', processors='tokenize,ner')\n"
   ]
  },
  {
   "cell_type": "code",
   "execution_count": null,
   "id": "a4af13b2",
   "metadata": {},
   "outputs": [],
   "source": [
    "\n",
    "# Read the cleaned dataset\n",
    "cleaned_df = pd.read_excel(directory_in + \"/cleaned_df4llm.xlsx\")"
   ]
  },
  {
   "cell_type": "code",
   "execution_count": null,
   "id": "523a501e",
   "metadata": {},
   "outputs": [],
   "source": [
    "\n",
    "# Get the column names and their indices as a dictionary\n",
    "column_dict = {column_name: column_index for column_index, column_name in enumerate(cleaned_df.columns)}\n",
    "column_dict"
   ]
  },
  {
   "cell_type": "code",
   "execution_count": null,
   "id": "fade50df",
   "metadata": {},
   "outputs": [],
   "source": [
    "# Define the column name for anonymization\n",
    "column_name = 'text1'"
   ]
  },
  {
   "cell_type": "code",
   "execution_count": null,
   "id": "b3845565",
   "metadata": {},
   "outputs": [],
   "source": [
    "# Initialize the counter variable\n",
    "iteration_counter = 1\n",
    "changed_counter = 1\n",
    "changes_per_iteration = {}\n",
    "\n",
    "# Define function for anonymization\n",
    "def anonymize(text):\n",
    "    global iteration_counter, changes_per_iteration\n",
    "    \n",
    "    # Initialize changes for this iteration\n",
    "    changes = []\n",
    "\n",
    "    print('Iteration number:', iteration_counter)\n",
    "    # Increment the iteration counter\n",
    "    iteration_counter += 1\n",
    "\n",
    "    if isinstance(text, str):\n",
    "        # Perform named entity recognition (NER)\n",
    "        doc = nlp(text)\n",
    "        names = [ent.text for ent in doc.ents if ent.type == 'PER']\n",
    "        if names:\n",
    "            print('Names to be anonymized: ', names)\n",
    "        for name in names:\n",
    "            if name not in ['Doktor', 'Corona', 'Coeliakie', 'Vingerprik', 'Hemelvaart', 'Had',\n",
    "                            'CT-Scan', 'Covid', 'J3', 'A', 'Alrijne', 'Glas', 'Allen', 'A4tje', 'Orthoptist',\n",
    "                            'Poli', 'OD', 'Chirurgie', 'COVID', 'Zoon', 'Holter', 'God', 'Arts', 'Lumc', 'AIOS',\n",
    "                            'Tijd', 'Patiént', 'Toppie', 'Anthonie van Leeuwenhoek', 'Sinterklaas', \n",
    "                            'Hodgkin', 'Tem\\r\\nPo', 'Dr', 'dr.', 'LUMC', 'CTscan', 'Hellp', 'Moeder', 'Marsh 3b',\n",
    "                            'Marsh 3a', 'Marsh 3A', 'Marsh 3C', 'Coeliaki', 'Reuma', 'Vegan', 'Pfeiffer',  'Glutenvrij', \n",
    "                            'Osteopenie', 'Dietist', 'Crohn', 'Marsh 3', 'Marsh 1', 'GV', 'Marsh 3b', 'Alzheimer',\n",
    "                            'HB', 'Pfeifer', 'Graves', 'Dokter', 'Turner', 'Duhring', 'Brain Fog', 'Fog', 'Fysiek',\n",
    "                            'Albert Heijn', 'Marsh', 'Vega', 'Non Hodgkin(', 'Brinta', 'Brainfog', 'Hebbik',\n",
    "                            'Duringh']: \n",
    "                print('Replaced: ', name)\n",
    "                text = text.replace(name, '[name]')\n",
    "                # Record the change\n",
    "                changes.append({'type': 'Name', 'original': name, 'anonymized': '[name]'})\n",
    "\n",
    "        # Remove patient numbers\n",
    "        text, num_changes = re.subn('\\s\\d{7}([\\s,])', '[patientnr]', text, flags=re.S)\n",
    "        if num_changes > 0:\n",
    "            print('Removed patient numbers:', num_changes)\n",
    "            # Record the change\n",
    "            changes.append({'type': 'Patient Number', 'count': num_changes})\n",
    "\n",
    "        # Remove Dutch personal identification numbers (BSN)\n",
    "        text, num_changes = re.subn('\\s\\d{9}([\\s,])', '[BSN]', text, flags=re.S)\n",
    "        if num_changes > 0:\n",
    "            print('Removed BSNs:', num_changes)\n",
    "            # Record the change\n",
    "            changes.append({'type': 'BSN', 'count': num_changes})\n",
    "\n",
    "        # Anonymize dates\n",
    "        text = re.sub('\\d{1,2}[/-]\\d{1,2}[/-]\\d{4}', '[date]', text, flags=re.S)\n",
    "        text = re.sub('\\d{4}[/-]\\d{1,2}[/-]\\d{1,2}', '[date]', text, flags=re.S)\n",
    "\n",
    "        # Remove phone numbers\n",
    "        text, num_changes = re.subn(\"06[- ]{0,1}\\d{8}\", \"[tel]\", text, flags=re.S)\n",
    "        text, num_changes = re.subn(\"0\\d{2}[- ]\\d{7}\", \"[tel]\", text, flags=re.S)\n",
    "        text, num_changes = re.subn(\"0\\d{3}[- ]\\d{6}\", \"[tel]\", text, flags=re.S)\n",
    "        text, num_changes = re.subn(\"0\\d{3}[- ]\\d{3}\\s\\d{3}\", \"[tel]\", text, flags=re.S)\n",
    "        text, num_changes = re.subn(\"0\\d{4}[- ]\\d{5}\", \"[tel]\", text, flags=re.S)\n",
    "        text, num_changes = re.subn(\"\\d{3}\\s\\d{3}\\s\\d{4}\", \"[tel]\", text, flags=re.S)\n",
    "        if num_changes > 0:\n",
    "            print('Removed phone numbers:', num_changes)\n",
    "            # Record the change\n",
    "            changes.append({'type': 'Phone Number', 'count': num_changes})\n",
    "\n",
    "        # Remove email addresses\n",
    "        text, num_changes = re.subn(\"\\S+@[\\.\\w]+\\.[^\\d\\W]{2,3}\", \"[email]\", text, flags=re.S)\n",
    "        if num_changes > 0:\n",
    "            print('Removed email addresses:', num_changes)\n",
    "            # Record the change\n",
    "            changes.append({'type': 'Email', 'count': num_changes})\n",
    "\n",
    "        # Remove document numbers\n",
    "        text, num_changes = re.subn(\"\\s\\d{10}\", \"[docnr]\", text, flags=re.S)\n",
    "        if num_changes > 0:\n",
    "            print('Removed document numbers:', num_changes)\n",
    "            # Record the change\n",
    "            changes.append({'type': 'Document Number', 'count': num_changes})\n",
    "\n",
    "        # Store changes for this iteration\n",
    "        changes_per_iteration[iteration_counter] = changes\n",
    "\n",
    "        return text.strip()\n",
    "    else:\n",
    "        return ''\n"
   ]
  },
  {
   "cell_type": "code",
   "execution_count": null,
   "id": "8cd07769",
   "metadata": {},
   "outputs": [],
   "source": [
    "# Anonymize the text in the specified column\n",
    "anon_text = cleaned_df[column_name].apply(anonymize)\n",
    "\n"
   ]
  },
  {
   "cell_type": "code",
   "execution_count": null,
   "id": "b4a2a3d3",
   "metadata": {},
   "outputs": [],
   "source": [
    "output_path = os.path.join(directory_out, \"anon_text.xlsx\")\n",
    "anon_text.to_excel(output_path)\n"
   ]
  },
  {
   "cell_type": "code",
   "execution_count": null,
   "id": "8a10f913",
   "metadata": {},
   "outputs": [],
   "source": [
    "anon_cleaned_df = cleaned_df\n",
    "anon_cleaned_df['anon_text1'] = anon_text\n",
    "anon_cleaned_df.to_excel(directory_out + \"/anon_cleaned_df.xlsx\", index=False)"
   ]
  },
  {
   "cell_type": "code",
   "execution_count": null,
   "id": "451ae7fc",
   "metadata": {},
   "outputs": [],
   "source": []
  },
  {
   "cell_type": "code",
   "execution_count": null,
   "id": "5aae74eb",
   "metadata": {},
   "outputs": [],
   "source": []
  },
  {
   "cell_type": "code",
   "execution_count": null,
   "id": "ba9f610a",
   "metadata": {},
   "outputs": [],
   "source": []
  },
  {
   "cell_type": "code",
   "execution_count": null,
   "id": "78fe89a3",
   "metadata": {},
   "outputs": [],
   "source": []
  },
  {
   "cell_type": "code",
   "execution_count": null,
   "id": "2fca4e99",
   "metadata": {},
   "outputs": [],
   "source": []
  }
 ],
 "metadata": {
  "kernelspec": {
   "display_name": "Python 3 (ipykernel)",
   "language": "python",
   "name": "python3"
  },
  "language_info": {
   "codemirror_mode": {
    "name": "ipython",
    "version": 3
   },
   "file_extension": ".py",
   "mimetype": "text/x-python",
   "name": "python",
   "nbconvert_exporter": "python",
   "pygments_lexer": "ipython3",
   "version": "3.10.9"
  }
 },
 "nbformat": 4,
 "nbformat_minor": 5
}
