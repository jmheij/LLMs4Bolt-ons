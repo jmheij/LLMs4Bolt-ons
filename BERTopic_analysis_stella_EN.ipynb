{
 "cells": [
  {
   "cell_type": "code",
   "execution_count": 1,
   "metadata": {},
   "outputs": [],
   "source": [
    "import os\n",
    "from bertopic import BERTopic\n",
    "from bertopic.dimensionality import BaseDimensionalityReduction\n",
    "from sentence_transformers import SentenceTransformer\n",
    "from hdbscan import HDBSCAN\n",
    "\n",
    "from scipy.cluster.hierarchy import linkage, dendrogram, fcluster\n",
    "from sklearn.metrics.pairwise import cosine_similarity\n",
    "from sklearn.metrics import silhouette_score, davies_bouldin_score\n",
    "\n",
    "import pandas as pd\n",
    "import numpy as np\n",
    "\n",
    "import re\n",
    "\n",
    "from sklearn.feature_extraction.text import CountVectorizer\n",
    "from sklearn.cluster import KMeans, SpectralClustering, BisectingKMeans\n",
    "from sklearn.preprocessing import MinMaxScaler as mms\n",
    "from sklearn.decomposition import PCA\n",
    "from umap import UMAP\n",
    "from umap import plot as umap_plot\n",
    "\n",
    "import seaborn as sns\n",
    "import matplotlib.pyplot as plt\n",
    "\n",
    "sns.set_style('whitegrid')\n",
    "sns.set_context('talk')"
   ]
  },
  {
   "cell_type": "code",
   "execution_count": null,
   "metadata": {},
   "outputs": [
    {
     "data": {
      "text/plain": [
       "85"
      ]
     },
     "execution_count": 2,
     "metadata": {},
     "output_type": "execute_result"
    }
   ],
   "source": [
    "\n",
    "# Define directories\n",
    "directory_in = \"C:/Users/jmheijdrasuasnabar/Documents/LLMs4Bolts/Input\"\n",
    "directory_out = \"C:/Users/jmheijdrasuasnabar/Documents/LLMs4Bolts/Output\"\n",
    "\n",
    "df_pre_analysis = pd.read_excel(directory_out + \"/translated_and_assigned_df_100.xlsx\")\n",
    "\n",
    "# Get the column names and their indices as a dictionary\n",
    "column_dict = {column_name: column_index for column_index, column_name in enumerate(df_pre_analysis.columns)}\n",
    "\n",
    "# Display the updated column dictionary\n",
    "column_dict\n",
    "condition = (df_pre_analysis['assigned_to'] != 'RESERVE.CHILD') & (df_pre_analysis['assigned_to'] != 'RESERVE.OTHER') \n",
    "df_pre_analysis.text1 = df_pre_analysis.text1.str.replace(\"\\\\n\", \" \")\n",
    "texts_list1 = df_pre_analysis.loc[condition, 'text1_translated'].tolist()\n",
    "len(texts_list1)"
   ]
  },
  {
   "cell_type": "code",
   "execution_count": null,
   "metadata": {},
   "outputs": [],
   "source": [
    "# this removes first 5 words of every entry because they give the sex and age of the patient (undesirable in topic modelling).\n",
    "def remove_first_5_words_from_list(string_list):\n",
    "    # Define a function to remove the first 5 words from a single string\n",
    "    def remove_first_5_words(input_string):\n",
    "        words = input_string.split()  # Split the string into a list of words\n",
    "        return ' '.join(words[5:])  # Join the words starting from the 6th word\n",
    "    \n",
    "    # Apply the function to every string in the list\n",
    "    return [remove_first_5_words(string) for string in string_list]\n",
    "\n",
    "texts_list = remove_first_5_words_from_list(string_list = texts_list1)\n",
    "\n"
   ]
  },
  {
   "cell_type": "code",
   "execution_count": 4,
   "metadata": {},
   "outputs": [],
   "source": [
    "\n",
    "def split_text_into_sentences(text):\n",
    "    # Split the text into sentences using regex for sentence boundaries (ends with .!? followed by a space or end of string)\n",
    "    sentences = re.split(r'(?<=[.!?])\\s+', text)\n",
    "    return sentences\n",
    "\n",
    "def chunk_sentences(sentences, chunk_size):\n",
    "    # Split the list of sentences into chunks of size chunk_size\n",
    "    for i in range(0, len(sentences), chunk_size):\n",
    "        yield ' '.join(sentences[i:i + chunk_size])\n",
    "\n",
    "def split_texts_list(texts_list, chunk_size):\n",
    "    result = []\n",
    "    for text in texts_list:\n",
    "        sentences = split_text_into_sentences(text)\n",
    "        result.extend(chunk_sentences(sentences, chunk_size))\n",
    "    \n",
    "    # Remove any empty strings from the result\n",
    "    result = [chunk for chunk in result if chunk.strip()]\n",
    "    return result\n",
    "\n",
    "chunk_size = 10 #decided after testing various chuck sizes\n",
    "\n",
    "split_texts = split_texts_list(texts_list, chunk_size=chunk_size)\n"
   ]
  },
  {
   "cell_type": "code",
   "execution_count": null,
   "metadata": {},
   "outputs": [],
   "source": [
    "import nltk\n",
    "from nltk.corpus import stopwords\n",
    "\n",
    "# Download stopwords\n",
    "#nltk.download('stopwords')\n",
    "\n",
    "# Get the list of English stopwords\n",
    "stop_words = stopwords.words('english')\n",
    "stop_words.extend(['celiac', 'coeliac', 'disease', 'years', 'year', 'also', 'diagnosis', 'gluten-free'])\n",
    "print(stop_words)"
   ]
  },
  {
   "cell_type": "code",
   "execution_count": null,
   "metadata": {},
   "outputs": [],
   "source": [
    "\n",
    "model = SentenceTransformer(\n",
    "    \"dunzhang/stella_en_400M_v5\",\n",
    "    trust_remote_code=True,\n",
    "    device=\"cpu\",\n",
    "    config_kwargs={\"use_memory_efficient_attention\": False, \"unpad_inputs\": False}\n",
    ")\n",
    "\n",
    "embeddings = model.encode(split_texts, normalize_embeddings=True)\n"
   ]
  },
  {
   "cell_type": "code",
   "execution_count": null,
   "metadata": {},
   "outputs": [],
   "source": [
    "\n",
    "#dimensionality reduction (the below parameters resulted from a series of iterations and selecting best combination based on CV and silhouette score)\n",
    "umap_model = UMAP(n_neighbors= 8, min_dist=0.0, n_components = 10, metric='cosine', random_state=42)\n",
    "\n",
    "# clustering\n",
    "hdbscan_model = SpectralClustering(random_state=42, n_clusters=17)\n",
    "\n",
    "vectorizer_model = CountVectorizer(stop_words=stop_words)\n",
    "\n",
    "spec_topic_model = BERTopic(umap_model=umap_model, \n",
    "                            hdbscan_model=hdbscan_model, \n",
    "                            vectorizer_model=vectorizer_model, \n",
    "                            calculate_probabilities=True, \n",
    "                            top_n_words = 15 #, # for better interpretability\n",
    "                            )\n",
    "\n",
    "spec_topics, probs = spec_topic_model.fit_transform(split_texts, embeddings=embeddings)\n",
    "\n",
    "n_topics_found = len(spec_topic_model.get_topics())\n",
    "spec_topic_model.get_topic_info()\n"
   ]
  },
  {
   "cell_type": "code",
   "execution_count": null,
   "metadata": {},
   "outputs": [
    {
     "name": "stdout",
     "output_type": "stream",
     "text": [
      "Silhouette score: 0.5218339562416077\n"
     ]
    }
   ],
   "source": [
    "# Extract UMAP reduced embeddings from the BERTopic model\n",
    "reduced_embeddings = spec_topic_model.umap_model.embedding_\n",
    "topic_labels = spec_topics\n",
    "\n",
    "# Calculate the silhouette score \n",
    "silhouette_avg = silhouette_score(reduced_embeddings, topic_labels, metric='cosine')\n",
    "print(f'Silhouette score: {silhouette_avg}')\n",
    "\n"
   ]
  },
  {
   "cell_type": "code",
   "execution_count": null,
   "metadata": {},
   "outputs": [
    {
     "name": "stdout",
     "output_type": "stream",
     "text": [
      "Topic Coherence (c_v): 0.3654783840793883\n"
     ]
    }
   ],
   "source": [
    "from gensim.models import CoherenceModel\n",
    "from gensim.corpora import Dictionary\n",
    "\n",
    "# Prepare the top words per topic for coherence calculation\n",
    "topics = spec_topic_model.get_topics()  # Get the topics\n",
    "top_words = [[word for word, _ in topics[i]] for i in range(len(topics)) if topics[i]]\n",
    "\n",
    "# Convert split_texts into a list of lists (each document as a list of words)\n",
    "texts_as_lists = [doc.split() for doc in split_texts]  \n",
    "\n",
    "# Create a Gensim Dictionary\n",
    "dictionary = Dictionary(texts_as_lists)\n",
    "\n",
    "# Calculate different coherence scores\n",
    "coherence_types = ['c_v']  # Add more types as needed , 'u_mass'\n",
    "coherence_scores = {}\n",
    "\n",
    "for coherence_type in coherence_types:\n",
    "    coherence_model = CoherenceModel(topics=top_words, texts=texts_as_lists, dictionary=dictionary, coherence=coherence_type)\n",
    "    coherence_scores[coherence_type] = coherence_model.get_coherence()\n",
    "\n",
    "\n",
    "\n",
    "# Print the coherence scores\n",
    "for c_type, score in coherence_scores.items():\n",
    "    print(f'Topic Coherence ({c_type}): {score}')\n"
   ]
  },
  {
   "cell_type": "code",
   "execution_count": null,
   "metadata": {},
   "outputs": [],
   "source": [
    "import json\n",
    "\n",
    "#for (short) prompt later\n",
    "topics_descriptions = spec_topic_model.get_topic_info()\n",
    "topics_descriptions_json = topics_descriptions.drop(columns=['Count', 'Name']).to_json(orient='records')\n",
    "print(topics_descriptions_json)\n",
    "\n",
    "eg_json = {\n",
    "                                            \"topics\": {\n",
    "                                                \"topic_0\": {\n",
    "                                                \"label\": \"\",\n",
    "                                                \"justification\": \"\",\n",
    "                                                \"representative_words\": \"\"\n",
    "                                                },\n",
    "                                                \"topic_1\": {\n",
    "                                                \"label\": \"\",\n",
    "                                                \"justification\": \"\",\n",
    "                                                \"representative_words\": \"\"\n",
    "                                                }\n",
    "                                            }\n",
    "}\n",
    "print(eg_json)"
   ]
  },
  {
   "cell_type": "code",
   "execution_count": 12,
   "metadata": {},
   "outputs": [
    {
     "data": {
      "image/png": "[encoded data removed]",
      "text/plain": [
       "<Figure size 1000x600 with 2 Axes>"
      ]
     },
     "metadata": {},
     "output_type": "display_data"
    }
   ],
   "source": [
    "overlap = pd.DataFrame(index=np.arange(0, n_topics_found), columns=np.arange(0, n_topics_found)).fillna(0)\n",
    "\n",
    "for topic_i, keywords_i in spec_topic_model.get_topics().items():\n",
    "    for topic_j, keywords_j in spec_topic_model.get_topics().items():\n",
    "        kw_i, kw_j = np.array(keywords_i)[:, 0], np.array(keywords_j)[:, 0]\n",
    "        overlap.loc[topic_i, topic_j] = np.intersect1d(kw_i, kw_j).shape[0] / kw_i.shape[0]\n",
    "\n",
    "\n",
    "with sns.plotting_context('notebook'):\n",
    "    plt.figure(figsize=(10, 6))\n",
    "    ax = sns.heatmap(overlap, cmap='autumn')"
   ]
  },
  {
   "cell_type": "code",
   "execution_count": null,
   "metadata": {},
   "outputs": [],
   "source": [
    "# Get the topic embeddings from BERTopic model\n",
    "topic_embeddings = spec_topic_model.topic_embeddings_\n",
    "\n",
    "# Calculate pairwise cosine similarities between topic embeddings\n",
    "cos_sim_matrix = cosine_similarity(topic_embeddings)\n",
    "\n",
    "# To measure diversity\n",
    "diversity_matrix = 1 - cos_sim_matrix\n",
    "\n",
    "# Calculate average cosine dissimilarity (diversity)\n",
    "average_diversity = np.mean(diversity_matrix[np.triu_indices_from(diversity_matrix, k=1)])\n",
    "print(f\"Average Topic Diversity (Cosine Dissimilarity): {average_diversity}\")"
   ]
  },
  {
   "cell_type": "code",
   "execution_count": 14,
   "metadata": {},
   "outputs": [
    {
     "data": {
      "application/vnd.plotly.v1+json": {
       "config": {
        "plotlyServerURL": "https://plot.ly"
       },
       "data": [
        {
         "hoverinfo": "text",
         "marker": {
          "color": "rgb(61,153,112)"
         },
         "mode": "lines",
         "type": "scatter",
         "x": [
          15,
          15,
          25,
          25
         ],
         "xaxis": "x",
         "y": [
          0,
          0.6461556049957886,
          0.6461556049957886,
          0
         ],
         "yaxis": "y"
        },
        {
         "hoverinfo": "text",
         "marker": {
          "color": "rgb(61,153,112)"
         },
         "mode": "lines",
         "type": "scatter",
         "x": [
          45,
          45,
          55,
          55
         ],
         "xaxis": "x",
         "y": [
          0,
          0.7100097379596385,
          0.7100097379596385,
          0
         ],
         "yaxis": "y"
        },
        {
         "hoverinfo": "text",
         "marker": {
          "color": "rgb(61,153,112)"
         },
         "mode": "lines",
         "type": "scatter",
         "x": [
          35,
          35,
          50,
          50
         ],
         "xaxis": "x",
         "y": [
          0,
          0.7426474365594615,
          0.7426474365594615,
          0.7100097379596385
         ],
         "yaxis": "y"
        },
        {
         "hoverinfo": "text",
         "marker": {
          "color": "rgb(61,153,112)"
         },
         "mode": "lines",
         "type": "scatter",
         "x": [
          20,
          20,
          42.5,
          42.5
         ],
         "xaxis": "x",
         "y": [
          0.6461556049957886,
          0.8183497319756851,
          0.8183497319756851,
          0.7426474365594615
         ],
         "yaxis": "y"
        },
        {
         "hoverinfo": "text",
         "marker": {
          "color": "rgb(61,153,112)"
         },
         "mode": "lines",
         "type": "scatter",
         "x": [
          31.25,
          31.25,
          65,
          65
         ],
         "xaxis": "x",
         "y": [
          0.8183497319756851,
          0.8784030213394329,
          0.8784030213394329,
          0
         ],
         "yaxis": "y"
        },
        {
         "hoverinfo": "text",
         "marker": {
          "color": "rgb(61,153,112)"
         },
         "mode": "lines",
         "type": "scatter",
         "x": [
          5,
          5,
          48.125,
          48.125
         ],
         "xaxis": "x",
         "y": [
          0,
          0.8879905186320322,
          0.8879905186320322,
          0.8784030213394329
         ],
         "yaxis": "y"
        },
        {
         "hoverinfo": "text",
         "marker": {
          "color": "rgb(255,65,54)"
         },
         "mode": "lines",
         "type": "scatter",
         "x": [
          85,
          85,
          95,
          95
         ],
         "xaxis": "x",
         "y": [
          0,
          0.5910404328367698,
          0.5910404328367698,
          0
         ],
         "yaxis": "y"
        },
        {
         "hoverinfo": "text",
         "marker": {
          "color": "rgb(255,65,54)"
         },
         "mode": "lines",
         "type": "scatter",
         "x": [
          90,
          90,
          105,
          105
         ],
         "xaxis": "x",
         "y": [
          0.5910404328367698,
          0.6399244374158213,
          0.6399244374158213,
          0
         ],
         "yaxis": "y"
        },
        {
         "hoverinfo": "text",
         "marker": {
          "color": "rgb(255,65,54)"
         },
         "mode": "lines",
         "type": "scatter",
         "x": [
          75,
          75,
          97.5,
          97.5
         ],
         "xaxis": "x",
         "y": [
          0,
          0.693807764816865,
          0.693807764816865,
          0.6399244374158213
         ],
         "yaxis": "y"
        },
        {
         "hoverinfo": "text",
         "marker": {
          "color": "rgb(255,65,54)"
         },
         "mode": "lines",
         "type": "scatter",
         "x": [
          86.25,
          86.25,
          115,
          115
         ],
         "xaxis": "x",
         "y": [
          0.693807764816865,
          0.7376832352560615,
          0.7376832352560615,
          0
         ],
         "yaxis": "y"
        },
        {
         "hoverinfo": "text",
         "marker": {
          "color": "rgb(255,65,54)"
         },
         "mode": "lines",
         "type": "scatter",
         "x": [
          125,
          125,
          135,
          135
         ],
         "xaxis": "x",
         "y": [
          0,
          0.767313157176921,
          0.767313157176921,
          0
         ],
         "yaxis": "y"
        },
        {
         "hoverinfo": "text",
         "marker": {
          "color": "rgb(255,65,54)"
         },
         "mode": "lines",
         "type": "scatter",
         "x": [
          100.625,
          100.625,
          130,
          130
         ],
         "xaxis": "x",
         "y": [
          0.7376832352560615,
          0.8303843379285399,
          0.8303843379285399,
          0.767313157176921
         ],
         "yaxis": "y"
        },
        {
         "hoverinfo": "text",
         "marker": {
          "color": "rgb(255,65,54)"
         },
         "mode": "lines",
         "type": "scatter",
         "x": [
          145,
          145,
          155,
          155
         ],
         "xaxis": "x",
         "y": [
          0,
          0.8348383468291609,
          0.8348383468291609,
          0
         ],
         "yaxis": "y"
        },
        {
         "hoverinfo": "text",
         "marker": {
          "color": "rgb(255,65,54)"
         },
         "mode": "lines",
         "type": "scatter",
         "x": [
          150,
          150,
          165,
          165
         ],
         "xaxis": "x",
         "y": [
          0.8348383468291609,
          0.8940859200442737,
          0.8940859200442737,
          0
         ],
         "yaxis": "y"
        },
        {
         "hoverinfo": "text",
         "marker": {
          "color": "rgb(255,65,54)"
         },
         "mode": "lines",
         "type": "scatter",
         "x": [
          115.3125,
          115.3125,
          157.5,
          157.5
         ],
         "xaxis": "x",
         "y": [
          0.8303843379285399,
          0.9901791385712302,
          0.9901791385712302,
          0.8940859200442737
         ],
         "yaxis": "y"
        },
        {
         "hoverinfo": "text",
         "marker": {
          "color": "rgb(0,116,217)"
         },
         "mode": "lines",
         "type": "scatter",
         "x": [
          26.5625,
          26.5625,
          136.40625,
          136.40625
         ],
         "xaxis": "x",
         "y": [
          0.8879905186320322,
          1.0544675816164462,
          1.0544675816164462,
          0.9901791385712302
         ],
         "yaxis": "y"
        }
       ],
       "layout": {
        "autosize": false,
        "height": 600,
        "hoverlabel": {
         "bgcolor": "white",
         "font": {
          "family": "Rockwell",
          "size": 16
         }
        },
        "hovermode": "closest",
        "plot_bgcolor": "#ECEFF1",
        "showlegend": false,
        "template": {
         "data": {
          "bar": [
           {
            "error_x": {
             "color": "#2a3f5f"
            },
            "error_y": {
             "color": "#2a3f5f"
            },
            "marker": {
             "line": {
              "color": "white",
              "width": 0.5
             },
             "pattern": {
              "fillmode": "overlay",
              "size": 10,
              "solidity": 0.2
             }
            },
            "type": "bar"
           }
          ],
          "barpolar": [
           {
            "marker": {
             "line": {
              "color": "white",
              "width": 0.5
             },
             "pattern": {
              "fillmode": "overlay",
              "size": 10,
              "solidity": 0.2
             }
            },
            "type": "barpolar"
           }
          ],
          "carpet": [
           {
            "aaxis": {
             "endlinecolor": "#2a3f5f",
             "gridcolor": "#C8D4E3",
             "linecolor": "#C8D4E3",
             "minorgridcolor": "#C8D4E3",
             "startlinecolor": "#2a3f5f"
            },
            "baxis": {
             "endlinecolor": "#2a3f5f",
             "gridcolor": "#C8D4E3",
             "linecolor": "#C8D4E3",
             "minorgridcolor": "#C8D4E3",
             "startlinecolor": "#2a3f5f"
            },
            "type": "carpet"
           }
          ],
          "choropleth": [
           {
            "colorbar": {
             "outlinewidth": 0,
             "ticks": ""
            },
            "type": "choropleth"
           }
          ],
          "contour": [
           {
            "colorbar": {
             "outlinewidth": 0,
             "ticks": ""
            },
            "colorscale": [
             [
              0,
              "#0d0887"
             ],
             [
              0.1111111111111111,
              "#46039f"
             ],
             [
              0.2222222222222222,
              "#7201a8"
             ],
             [
              0.3333333333333333,
              "#9c179e"
             ],
             [
              0.4444444444444444,
              "#bd3786"
             ],
             [
              0.5555555555555556,
              "#d8576b"
             ],
             [
              0.6666666666666666,
              "#ed7953"
             ],
             [
              0.7777777777777778,
              "#fb9f3a"
             ],
             [
              0.8888888888888888,
              "#fdca26"
             ],
             [
              1,
              "#f0f921"
             ]
            ],
            "type": "contour"
           }
          ],
          "contourcarpet": [
           {
            "colorbar": {
             "outlinewidth": 0,
             "ticks": ""
            },
            "type": "contourcarpet"
           }
          ],
          "heatmap": [
           {
            "colorbar": {
             "outlinewidth": 0,
             "ticks": ""
            },
            "colorscale": [
             [
              0,
              "#0d0887"
             ],
             [
              0.1111111111111111,
              "#46039f"
             ],
             [
              0.2222222222222222,
              "#7201a8"
             ],
             [
              0.3333333333333333,
              "#9c179e"
             ],
             [
              0.4444444444444444,
              "#bd3786"
             ],
             [
              0.5555555555555556,
              "#d8576b"
             ],
             [
              0.6666666666666666,
              "#ed7953"
             ],
             [
              0.7777777777777778,
              "#fb9f3a"
             ],
             [
              0.8888888888888888,
              "#fdca26"
             ],
             [
              1,
              "#f0f921"
             ]
            ],
            "type": "heatmap"
           }
          ],
          "heatmapgl": [
           {
            "colorbar": {
             "outlinewidth": 0,
             "ticks": ""
            },
            "colorscale": [
             [
              0,
              "#0d0887"
             ],
             [
              0.1111111111111111,
              "#46039f"
             ],
             [
              0.2222222222222222,
              "#7201a8"
             ],
             [
              0.3333333333333333,
              "#9c179e"
             ],
             [
              0.4444444444444444,
              "#bd3786"
             ],
             [
              0.5555555555555556,
              "#d8576b"
             ],
             [
              0.6666666666666666,
              "#ed7953"
             ],
             [
              0.7777777777777778,
              "#fb9f3a"
             ],
             [
              0.8888888888888888,
              "#fdca26"
             ],
             [
              1,
              "#f0f921"
             ]
            ],
            "type": "heatmapgl"
           }
          ],
          "histogram": [
           {
            "marker": {
             "pattern": {
              "fillmode": "overlay",
              "size": 10,
              "solidity": 0.2
             }
            },
            "type": "histogram"
           }
          ],
          "histogram2d": [
           {
            "colorbar": {
             "outlinewidth": 0,
             "ticks": ""
            },
            "colorscale": [
             [
              0,
              "#0d0887"
             ],
             [
              0.1111111111111111,
              "#46039f"
             ],
             [
              0.2222222222222222,
              "#7201a8"
             ],
             [
              0.3333333333333333,
              "#9c179e"
             ],
             [
              0.4444444444444444,
              "#bd3786"
             ],
             [
              0.5555555555555556,
              "#d8576b"
             ],
             [
              0.6666666666666666,
              "#ed7953"
             ],
             [
              0.7777777777777778,
              "#fb9f3a"
             ],
             [
              0.8888888888888888,
              "#fdca26"
             ],
             [
              1,
              "#f0f921"
             ]
            ],
            "type": "histogram2d"
           }
          ],
          "histogram2dcontour": [
           {
            "colorbar": {
             "outlinewidth": 0,
             "ticks": ""
            },
            "colorscale": [
             [
              0,
              "#0d0887"
             ],
             [
              0.1111111111111111,
              "#46039f"
             ],
             [
              0.2222222222222222,
              "#7201a8"
             ],
             [
              0.3333333333333333,
              "#9c179e"
             ],
             [
              0.4444444444444444,
              "#bd3786"
             ],
             [
              0.5555555555555556,
              "#d8576b"
             ],
             [
              0.6666666666666666,
              "#ed7953"
             ],
             [
              0.7777777777777778,
              "#fb9f3a"
             ],
             [
              0.8888888888888888,
              "#fdca26"
             ],
             [
              1,
              "#f0f921"
             ]
            ],
            "type": "histogram2dcontour"
           }
          ],
          "mesh3d": [
           {
            "colorbar": {
             "outlinewidth": 0,
             "ticks": ""
            },
            "type": "mesh3d"
           }
          ],
          "parcoords": [
           {
            "line": {
             "colorbar": {
              "outlinewidth": 0,
              "ticks": ""
             }
            },
            "type": "parcoords"
           }
          ],
          "pie": [
           {
            "automargin": true,
            "type": "pie"
           }
          ],
          "scatter": [
           {
            "fillpattern": {
             "fillmode": "overlay",
             "size": 10,
             "solidity": 0.2
            },
            "type": "scatter"
           }
          ],
          "scatter3d": [
           {
            "line": {
             "colorbar": {
              "outlinewidth": 0,
              "ticks": ""
             }
            },
            "marker": {
             "colorbar": {
              "outlinewidth": 0,
              "ticks": ""
             }
            },
            "type": "scatter3d"
           }
          ],
          "scattercarpet": [
           {
            "marker": {
             "colorbar": {
              "outlinewidth": 0,
              "ticks": ""
             }
            },
            "type": "scattercarpet"
           }
          ],
          "scattergeo": [
           {
            "marker": {
             "colorbar": {
              "outlinewidth": 0,
              "ticks": ""
             }
            },
            "type": "scattergeo"
           }
          ],
          "scattergl": [
           {
            "marker": {
             "colorbar": {
              "outlinewidth": 0,
              "ticks": ""
             }
            },
            "type": "scattergl"
           }
          ],
          "scattermapbox": [
           {
            "marker": {
             "colorbar": {
              "outlinewidth": 0,
              "ticks": ""
             }
            },
            "type": "scattermapbox"
           }
          ],
          "scatterpolar": [
           {
            "marker": {
             "colorbar": {
              "outlinewidth": 0,
              "ticks": ""
             }
            },
            "type": "scatterpolar"
           }
          ],
          "scatterpolargl": [
           {
            "marker": {
             "colorbar": {
              "outlinewidth": 0,
              "ticks": ""
             }
            },
            "type": "scatterpolargl"
           }
          ],
          "scatterternary": [
           {
            "marker": {
             "colorbar": {
              "outlinewidth": 0,
              "ticks": ""
             }
            },
            "type": "scatterternary"
           }
          ],
          "surface": [
           {
            "colorbar": {
             "outlinewidth": 0,
             "ticks": ""
            },
            "colorscale": [
             [
              0,
              "#0d0887"
             ],
             [
              0.1111111111111111,
              "#46039f"
             ],
             [
              0.2222222222222222,
              "#7201a8"
             ],
             [
              0.3333333333333333,
              "#9c179e"
             ],
             [
              0.4444444444444444,
              "#bd3786"
             ],
             [
              0.5555555555555556,
              "#d8576b"
             ],
             [
              0.6666666666666666,
              "#ed7953"
             ],
             [
              0.7777777777777778,
              "#fb9f3a"
             ],
             [
              0.8888888888888888,
              "#fdca26"
             ],
             [
              1,
              "#f0f921"
             ]
            ],
            "type": "surface"
           }
          ],
          "table": [
           {
            "cells": {
             "fill": {
              "color": "#EBF0F8"
             },
             "line": {
              "color": "white"
             }
            },
            "header": {
             "fill": {
              "color": "#C8D4E3"
             },
             "line": {
              "color": "white"
             }
            },
            "type": "table"
           }
          ]
         },
         "layout": {
          "annotationdefaults": {
           "arrowcolor": "#2a3f5f",
           "arrowhead": 0,
           "arrowwidth": 1
          },
          "autotypenumbers": "strict",
          "coloraxis": {
           "colorbar": {
            "outlinewidth": 0,
            "ticks": ""
           }
          },
          "colorscale": {
           "diverging": [
            [
             0,
             "#8e0152"
            ],
            [
             0.1,
             "#c51b7d"
            ],
            [
             0.2,
             "#de77ae"
            ],
            [
             0.3,
             "#f1b6da"
            ],
            [
             0.4,
             "#fde0ef"
            ],
            [
             0.5,
             "#f7f7f7"
            ],
            [
             0.6,
             "#e6f5d0"
            ],
            [
             0.7,
             "#b8e186"
            ],
            [
             0.8,
             "#7fbc41"
            ],
            [
             0.9,
             "#4d9221"
            ],
            [
             1,
             "#276419"
            ]
           ],
           "sequential": [
            [
             0,
             "#0d0887"
            ],
            [
             0.1111111111111111,
             "#46039f"
            ],
            [
             0.2222222222222222,
             "#7201a8"
            ],
            [
             0.3333333333333333,
             "#9c179e"
            ],
            [
             0.4444444444444444,
             "#bd3786"
            ],
            [
             0.5555555555555556,
             "#d8576b"
            ],
            [
             0.6666666666666666,
             "#ed7953"
            ],
            [
             0.7777777777777778,
             "#fb9f3a"
            ],
            [
             0.8888888888888888,
             "#fdca26"
            ],
            [
             1,
             "#f0f921"
            ]
           ],
           "sequentialminus": [
            [
             0,
             "#0d0887"
            ],
            [
             0.1111111111111111,
             "#46039f"
            ],
            [
             0.2222222222222222,
             "#7201a8"
            ],
            [
             0.3333333333333333,
             "#9c179e"
            ],
            [
             0.4444444444444444,
             "#bd3786"
            ],
            [
             0.5555555555555556,
             "#d8576b"
            ],
            [
             0.6666666666666666,
             "#ed7953"
            ],
            [
             0.7777777777777778,
             "#fb9f3a"
            ],
            [
             0.8888888888888888,
             "#fdca26"
            ],
            [
             1,
             "#f0f921"
            ]
           ]
          },
          "colorway": [
           "#636efa",
           "#EF553B",
           "#00cc96",
           "#ab63fa",
           "#FFA15A",
           "#19d3f3",
           "#FF6692",
           "#B6E880",
           "#FF97FF",
           "#FECB52"
          ],
          "font": {
           "color": "#2a3f5f"
          },
          "geo": {
           "bgcolor": "white",
           "lakecolor": "white",
           "landcolor": "white",
           "showlakes": true,
           "showland": true,
           "subunitcolor": "#C8D4E3"
          },
          "hoverlabel": {
           "align": "left"
          },
          "hovermode": "closest",
          "mapbox": {
           "style": "light"
          },
          "paper_bgcolor": "white",
          "plot_bgcolor": "white",
          "polar": {
           "angularaxis": {
            "gridcolor": "#EBF0F8",
            "linecolor": "#EBF0F8",
            "ticks": ""
           },
           "bgcolor": "white",
           "radialaxis": {
            "gridcolor": "#EBF0F8",
            "linecolor": "#EBF0F8",
            "ticks": ""
           }
          },
          "scene": {
           "xaxis": {
            "backgroundcolor": "white",
            "gridcolor": "#DFE8F3",
            "gridwidth": 2,
            "linecolor": "#EBF0F8",
            "showbackground": true,
            "ticks": "",
            "zerolinecolor": "#EBF0F8"
           },
           "yaxis": {
            "backgroundcolor": "white",
            "gridcolor": "#DFE8F3",
            "gridwidth": 2,
            "linecolor": "#EBF0F8",
            "showbackground": true,
            "ticks": "",
            "zerolinecolor": "#EBF0F8"
           },
           "zaxis": {
            "backgroundcolor": "white",
            "gridcolor": "#DFE8F3",
            "gridwidth": 2,
            "linecolor": "#EBF0F8",
            "showbackground": true,
            "ticks": "",
            "zerolinecolor": "#EBF0F8"
           }
          },
          "shapedefaults": {
           "line": {
            "color": "#2a3f5f"
           }
          },
          "ternary": {
           "aaxis": {
            "gridcolor": "#DFE8F3",
            "linecolor": "#A2B1C6",
            "ticks": ""
           },
           "baxis": {
            "gridcolor": "#DFE8F3",
            "linecolor": "#A2B1C6",
            "ticks": ""
           },
           "bgcolor": "white",
           "caxis": {
            "gridcolor": "#DFE8F3",
            "linecolor": "#A2B1C6",
            "ticks": ""
           }
          },
          "title": {
           "x": 0.05
          },
          "xaxis": {
           "automargin": true,
           "gridcolor": "#EBF0F8",
           "linecolor": "#EBF0F8",
           "ticks": "",
           "title": {
            "standoff": 15
           },
           "zerolinecolor": "#EBF0F8",
           "zerolinewidth": 2
          },
          "yaxis": {
           "automargin": true,
           "gridcolor": "#EBF0F8",
           "linecolor": "#EBF0F8",
           "ticks": "",
           "title": {
            "standoff": 15
           },
           "zerolinecolor": "#EBF0F8",
           "zerolinewidth": 2
          }
         }
        },
        "title": {
         "font": {
          "color": "Black",
          "size": 22
         },
         "text": "<b>Hierarchical Clustering</b>",
         "x": 0.5,
         "xanchor": "center",
         "yanchor": "top"
        },
        "width": 455,
        "xaxis": {
         "mirror": "allticks",
         "rangemode": "tozero",
         "showgrid": false,
         "showline": true,
         "showticklabels": true,
         "tickmode": "array",
         "ticks": "outside",
         "ticktext": [
          "15_thin_small_belly",
          "9_problems_intestinal_lung",
          "2_nothing_general_practitio...",
          "8_really_tired_couldnt",
          "10_complaints_pain_abdominal",
          "14_still_lactosefree_often",
          "16_couldnt_keep_worked",
          "7_food_glutenfree_often",
          "0_glutenfree_life_eat",
          "3_pain_life_often",
          "1_work_due_life",
          "6_glutenfree_products_lot",
          "4_diet_things_well",
          "11_thing_living_osteoporosis",
          "13_life_together_severely",
          "12_harder_need_toilet",
          "5_future_hope_10"
         ],
         "tickvals": [
          5,
          15,
          25,
          35,
          45,
          55,
          65,
          75,
          85,
          95,
          105,
          115,
          125,
          135,
          145,
          155,
          165
         ],
         "type": "linear",
         "zeroline": false
        },
        "yaxis": {
         "mirror": "allticks",
         "rangemode": "tozero",
         "showgrid": false,
         "showline": true,
         "showticklabels": true,
         "ticks": "outside",
         "type": "linear",
         "zeroline": false
        }
       }
      }
     },
     "metadata": {},
     "output_type": "display_data"
    }
   ],
   "source": [
    "\n",
    "spec_topic_model.visualize_hierarchy(orientation='bottom')\n"
   ]
  },
  {
   "cell_type": "code",
   "execution_count": 15,
   "metadata": {},
   "outputs": [],
   "source": [
    "%run log_code.ipynb\n",
    "\n",
    "def interpret_topics():\n",
    "    output = call_gpt4(\n",
    "        model = \"gpt-4o-jh\",\n",
    "        messages=[\n",
    "            {\"role\": \"system\", \"content\": \"You are an experienced health economist researching health-related quality of life. You provide all your outputs exclusively in JSON format.\"},\n",
    "            {\"role\": \"user\", \"content\": f\"\"\"I have some topics that contain the following representative keywords and representative documents. \n",
    "             \n",
    "                                            ```{topics_descriptions_json}```\n",
    "\n",
    "                                            Your task are simple: \n",
    "                                            first, translate each representative word into english. Include the translation in your JSON output. \n",
    "                                            Second, create a short label that describes each topic based on the keywords and representative documents. The short label should describe a single quality of life dimension or topic (i.e., not more than one!). In your JSON output, include a justifiaction for the choice of label.  \n",
    "                                            Your JSON output should therefore have the following format: \n",
    "                                            {eg_json}\n",
    "                                            \"\"\"}\n",
    "        ], \n",
    "        temperature=0.0, \n",
    "        seed=82, \n",
    "        max_tokens=4096\n",
    "        )\n",
    "    return output.choices[0].message.content\n",
    "\n",
    "\n",
    "LLM_out = interpret_topics()\n",
    "clean_json_str = LLM_out.replace('```json', '').replace('```', '').strip()\n",
    "with open(directory_out + '/Topic modelling/LLM_BerTopic_interpret_stella_n85_b4merge.txt', 'w') as file: file.write(clean_json_str)"
   ]
  },
  {
   "cell_type": "code",
   "execution_count": 16,
   "metadata": {},
   "outputs": [],
   "source": [
    "#Merge topics based on semantic meaning (LLM assisted) + hierarchy \n",
    "\n",
    "topics_to_merge = [[4,6,14],\n",
    "                   [0,7,11,13]]\n",
    "spec_topic_model.merge_topics(split_texts, topics_to_merge)\n",
    "\n",
    "#for (short) prompt later\n",
    "topics_descriptions = spec_topic_model.get_topic_info()\n",
    "topics_descriptions_json = topics_descriptions.drop(columns=['Count', 'Name']).to_json(orient='records')\n",
    "\n"
   ]
  },
  {
   "cell_type": "code",
   "execution_count": 17,
   "metadata": {},
   "outputs": [
    {
     "data": {
      "application/vnd.plotly.v1+json": {
       "config": {
        "plotlyServerURL": "https://plot.ly"
       },
       "data": [
        {
         "hoverinfo": "text",
         "marker": {
          "color": "rgb(61,153,112)"
         },
         "mode": "lines",
         "type": "scatter",
         "x": [
          5,
          5,
          15,
          15
         ],
         "xaxis": "x",
         "y": [
          0,
          0.8469102199135672,
          0.8469102199135672,
          0
         ],
         "yaxis": "y"
        },
        {
         "hoverinfo": "text",
         "marker": {
          "color": "rgb(255,65,54)"
         },
         "mode": "lines",
         "type": "scatter",
         "x": [
          25,
          25,
          35,
          35
         ],
         "xaxis": "x",
         "y": [
          0,
          0.634398647129542,
          0.634398647129542,
          0
         ],
         "yaxis": "y"
        },
        {
         "hoverinfo": "text",
         "marker": {
          "color": "rgb(255,65,54)"
         },
         "mode": "lines",
         "type": "scatter",
         "x": [
          65,
          65,
          75,
          75
         ],
         "xaxis": "x",
         "y": [
          0,
          0.4489707224579036,
          0.4489707224579036,
          0
         ],
         "yaxis": "y"
        },
        {
         "hoverinfo": "text",
         "marker": {
          "color": "rgb(255,65,54)"
         },
         "mode": "lines",
         "type": "scatter",
         "x": [
          55,
          55,
          70,
          70
         ],
         "xaxis": "x",
         "y": [
          0,
          0.5534472664467884,
          0.5534472664467884,
          0.4489707224579036
         ],
         "yaxis": "y"
        },
        {
         "hoverinfo": "text",
         "marker": {
          "color": "rgb(255,65,54)"
         },
         "mode": "lines",
         "type": "scatter",
         "x": [
          45,
          45,
          62.5,
          62.5
         ],
         "xaxis": "x",
         "y": [
          0,
          0.623195287419961,
          0.623195287419961,
          0.5534472664467884
         ],
         "yaxis": "y"
        },
        {
         "hoverinfo": "text",
         "marker": {
          "color": "rgb(255,65,54)"
         },
         "mode": "lines",
         "type": "scatter",
         "x": [
          85,
          85,
          95,
          95
         ],
         "xaxis": "x",
         "y": [
          0,
          0.7092824454324318,
          0.7092824454324318,
          0
         ],
         "yaxis": "y"
        },
        {
         "hoverinfo": "text",
         "marker": {
          "color": "rgb(255,65,54)"
         },
         "mode": "lines",
         "type": "scatter",
         "x": [
          53.75,
          53.75,
          90,
          90
         ],
         "xaxis": "x",
         "y": [
          0.623195287419961,
          0.7664668518044765,
          0.7664668518044765,
          0.7092824454324318
         ],
         "yaxis": "y"
        },
        {
         "hoverinfo": "text",
         "marker": {
          "color": "rgb(255,65,54)"
         },
         "mode": "lines",
         "type": "scatter",
         "x": [
          30,
          30,
          71.875,
          71.875
         ],
         "xaxis": "x",
         "y": [
          0.634398647129542,
          0.8163817887666585,
          0.8163817887666585,
          0.7664668518044765
         ],
         "yaxis": "y"
        },
        {
         "hoverinfo": "text",
         "marker": {
          "color": "rgb(255,65,54)"
         },
         "mode": "lines",
         "type": "scatter",
         "x": [
          105,
          105,
          115,
          115
         ],
         "xaxis": "x",
         "y": [
          0,
          0.8828086560145548,
          0.8828086560145548,
          0
         ],
         "yaxis": "y"
        },
        {
         "hoverinfo": "text",
         "marker": {
          "color": "rgb(255,65,54)"
         },
         "mode": "lines",
         "type": "scatter",
         "x": [
          50.9375,
          50.9375,
          110,
          110
         ],
         "xaxis": "x",
         "y": [
          0.8163817887666585,
          0.9355190858574028,
          0.9355190858574028,
          0.8828086560145548
         ],
         "yaxis": "y"
        },
        {
         "hoverinfo": "text",
         "marker": {
          "color": "rgb(0,116,217)"
         },
         "mode": "lines",
         "type": "scatter",
         "x": [
          10,
          10,
          80.46875,
          80.46875
         ],
         "xaxis": "x",
         "y": [
          0.8469102199135672,
          1.0262417647242479,
          1.0262417647242479,
          0.9355190858574028
         ],
         "yaxis": "y"
        }
       ],
       "layout": {
        "autosize": false,
        "height": 600,
        "hoverlabel": {
         "bgcolor": "white",
         "font": {
          "family": "Rockwell",
          "size": 16
         }
        },
        "hovermode": "closest",
        "plot_bgcolor": "#ECEFF1",
        "showlegend": false,
        "template": {
         "data": {
          "bar": [
           {
            "error_x": {
             "color": "#2a3f5f"
            },
            "error_y": {
             "color": "#2a3f5f"
            },
            "marker": {
             "line": {
              "color": "white",
              "width": 0.5
             },
             "pattern": {
              "fillmode": "overlay",
              "size": 10,
              "solidity": 0.2
             }
            },
            "type": "bar"
           }
          ],
          "barpolar": [
           {
            "marker": {
             "line": {
              "color": "white",
              "width": 0.5
             },
             "pattern": {
              "fillmode": "overlay",
              "size": 10,
              "solidity": 0.2
             }
            },
            "type": "barpolar"
           }
          ],
          "carpet": [
           {
            "aaxis": {
             "endlinecolor": "#2a3f5f",
             "gridcolor": "#C8D4E3",
             "linecolor": "#C8D4E3",
             "minorgridcolor": "#C8D4E3",
             "startlinecolor": "#2a3f5f"
            },
            "baxis": {
             "endlinecolor": "#2a3f5f",
             "gridcolor": "#C8D4E3",
             "linecolor": "#C8D4E3",
             "minorgridcolor": "#C8D4E3",
             "startlinecolor": "#2a3f5f"
            },
            "type": "carpet"
           }
          ],
          "choropleth": [
           {
            "colorbar": {
             "outlinewidth": 0,
             "ticks": ""
            },
            "type": "choropleth"
           }
          ],
          "contour": [
           {
            "colorbar": {
             "outlinewidth": 0,
             "ticks": ""
            },
            "colorscale": [
             [
              0,
              "#0d0887"
             ],
             [
              0.1111111111111111,
              "#46039f"
             ],
             [
              0.2222222222222222,
              "#7201a8"
             ],
             [
              0.3333333333333333,
              "#9c179e"
             ],
             [
              0.4444444444444444,
              "#bd3786"
             ],
             [
              0.5555555555555556,
              "#d8576b"
             ],
             [
              0.6666666666666666,
              "#ed7953"
             ],
             [
              0.7777777777777778,
              "#fb9f3a"
             ],
             [
              0.8888888888888888,
              "#fdca26"
             ],
             [
              1,
              "#f0f921"
             ]
            ],
            "type": "contour"
           }
          ],
          "contourcarpet": [
           {
            "colorbar": {
             "outlinewidth": 0,
             "ticks": ""
            },
            "type": "contourcarpet"
           }
          ],
          "heatmap": [
           {
            "colorbar": {
             "outlinewidth": 0,
             "ticks": ""
            },
            "colorscale": [
             [
              0,
              "#0d0887"
             ],
             [
              0.1111111111111111,
              "#46039f"
             ],
             [
              0.2222222222222222,
              "#7201a8"
             ],
             [
              0.3333333333333333,
              "#9c179e"
             ],
             [
              0.4444444444444444,
              "#bd3786"
             ],
             [
              0.5555555555555556,
              "#d8576b"
             ],
             [
              0.6666666666666666,
              "#ed7953"
             ],
             [
              0.7777777777777778,
              "#fb9f3a"
             ],
             [
              0.8888888888888888,
              "#fdca26"
             ],
             [
              1,
              "#f0f921"
             ]
            ],
            "type": "heatmap"
           }
          ],
          "heatmapgl": [
           {
            "colorbar": {
             "outlinewidth": 0,
             "ticks": ""
            },
            "colorscale": [
             [
              0,
              "#0d0887"
             ],
             [
              0.1111111111111111,
              "#46039f"
             ],
             [
              0.2222222222222222,
              "#7201a8"
             ],
             [
              0.3333333333333333,
              "#9c179e"
             ],
             [
              0.4444444444444444,
              "#bd3786"
             ],
             [
              0.5555555555555556,
              "#d8576b"
             ],
             [
              0.6666666666666666,
              "#ed7953"
             ],
             [
              0.7777777777777778,
              "#fb9f3a"
             ],
             [
              0.8888888888888888,
              "#fdca26"
             ],
             [
              1,
              "#f0f921"
             ]
            ],
            "type": "heatmapgl"
           }
          ],
          "histogram": [
           {
            "marker": {
             "pattern": {
              "fillmode": "overlay",
              "size": 10,
              "solidity": 0.2
             }
            },
            "type": "histogram"
           }
          ],
          "histogram2d": [
           {
            "colorbar": {
             "outlinewidth": 0,
             "ticks": ""
            },
            "colorscale": [
             [
              0,
              "#0d0887"
             ],
             [
              0.1111111111111111,
              "#46039f"
             ],
             [
              0.2222222222222222,
              "#7201a8"
             ],
             [
              0.3333333333333333,
              "#9c179e"
             ],
             [
              0.4444444444444444,
              "#bd3786"
             ],
             [
              0.5555555555555556,
              "#d8576b"
             ],
             [
              0.6666666666666666,
              "#ed7953"
             ],
             [
              0.7777777777777778,
              "#fb9f3a"
             ],
             [
              0.8888888888888888,
              "#fdca26"
             ],
             [
              1,
              "#f0f921"
             ]
            ],
            "type": "histogram2d"
           }
          ],
          "histogram2dcontour": [
           {
            "colorbar": {
             "outlinewidth": 0,
             "ticks": ""
            },
            "colorscale": [
             [
              0,
              "#0d0887"
             ],
             [
              0.1111111111111111,
              "#46039f"
             ],
             [
              0.2222222222222222,
              "#7201a8"
             ],
             [
              0.3333333333333333,
              "#9c179e"
             ],
             [
              0.4444444444444444,
              "#bd3786"
             ],
             [
              0.5555555555555556,
              "#d8576b"
             ],
             [
              0.6666666666666666,
              "#ed7953"
             ],
             [
              0.7777777777777778,
              "#fb9f3a"
             ],
             [
              0.8888888888888888,
              "#fdca26"
             ],
             [
              1,
              "#f0f921"
             ]
            ],
            "type": "histogram2dcontour"
           }
          ],
          "mesh3d": [
           {
            "colorbar": {
             "outlinewidth": 0,
             "ticks": ""
            },
            "type": "mesh3d"
           }
          ],
          "parcoords": [
           {
            "line": {
             "colorbar": {
              "outlinewidth": 0,
              "ticks": ""
             }
            },
            "type": "parcoords"
           }
          ],
          "pie": [
           {
            "automargin": true,
            "type": "pie"
           }
          ],
          "scatter": [
           {
            "fillpattern": {
             "fillmode": "overlay",
             "size": 10,
             "solidity": 0.2
            },
            "type": "scatter"
           }
          ],
          "scatter3d": [
           {
            "line": {
             "colorbar": {
              "outlinewidth": 0,
              "ticks": ""
             }
            },
            "marker": {
             "colorbar": {
              "outlinewidth": 0,
              "ticks": ""
             }
            },
            "type": "scatter3d"
           }
          ],
          "scattercarpet": [
           {
            "marker": {
             "colorbar": {
              "outlinewidth": 0,
              "ticks": ""
             }
            },
            "type": "scattercarpet"
           }
          ],
          "scattergeo": [
           {
            "marker": {
             "colorbar": {
              "outlinewidth": 0,
              "ticks": ""
             }
            },
            "type": "scattergeo"
           }
          ],
          "scattergl": [
           {
            "marker": {
             "colorbar": {
              "outlinewidth": 0,
              "ticks": ""
             }
            },
            "type": "scattergl"
           }
          ],
          "scattermapbox": [
           {
            "marker": {
             "colorbar": {
              "outlinewidth": 0,
              "ticks": ""
             }
            },
            "type": "scattermapbox"
           }
          ],
          "scatterpolar": [
           {
            "marker": {
             "colorbar": {
              "outlinewidth": 0,
              "ticks": ""
             }
            },
            "type": "scatterpolar"
           }
          ],
          "scatterpolargl": [
           {
            "marker": {
             "colorbar": {
              "outlinewidth": 0,
              "ticks": ""
             }
            },
            "type": "scatterpolargl"
           }
          ],
          "scatterternary": [
           {
            "marker": {
             "colorbar": {
              "outlinewidth": 0,
              "ticks": ""
             }
            },
            "type": "scatterternary"
           }
          ],
          "surface": [
           {
            "colorbar": {
             "outlinewidth": 0,
             "ticks": ""
            },
            "colorscale": [
             [
              0,
              "#0d0887"
             ],
             [
              0.1111111111111111,
              "#46039f"
             ],
             [
              0.2222222222222222,
              "#7201a8"
             ],
             [
              0.3333333333333333,
              "#9c179e"
             ],
             [
              0.4444444444444444,
              "#bd3786"
             ],
             [
              0.5555555555555556,
              "#d8576b"
             ],
             [
              0.6666666666666666,
              "#ed7953"
             ],
             [
              0.7777777777777778,
              "#fb9f3a"
             ],
             [
              0.8888888888888888,
              "#fdca26"
             ],
             [
              1,
              "#f0f921"
             ]
            ],
            "type": "surface"
           }
          ],
          "table": [
           {
            "cells": {
             "fill": {
              "color": "#EBF0F8"
             },
             "line": {
              "color": "white"
             }
            },
            "header": {
             "fill": {
              "color": "#C8D4E3"
             },
             "line": {
              "color": "white"
             }
            },
            "type": "table"
           }
          ]
         },
         "layout": {
          "annotationdefaults": {
           "arrowcolor": "#2a3f5f",
           "arrowhead": 0,
           "arrowwidth": 1
          },
          "autotypenumbers": "strict",
          "coloraxis": {
           "colorbar": {
            "outlinewidth": 0,
            "ticks": ""
           }
          },
          "colorscale": {
           "diverging": [
            [
             0,
             "#8e0152"
            ],
            [
             0.1,
             "#c51b7d"
            ],
            [
             0.2,
             "#de77ae"
            ],
            [
             0.3,
             "#f1b6da"
            ],
            [
             0.4,
             "#fde0ef"
            ],
            [
             0.5,
             "#f7f7f7"
            ],
            [
             0.6,
             "#e6f5d0"
            ],
            [
             0.7,
             "#b8e186"
            ],
            [
             0.8,
             "#7fbc41"
            ],
            [
             0.9,
             "#4d9221"
            ],
            [
             1,
             "#276419"
            ]
           ],
           "sequential": [
            [
             0,
             "#0d0887"
            ],
            [
             0.1111111111111111,
             "#46039f"
            ],
            [
             0.2222222222222222,
             "#7201a8"
            ],
            [
             0.3333333333333333,
             "#9c179e"
            ],
            [
             0.4444444444444444,
             "#bd3786"
            ],
            [
             0.5555555555555556,
             "#d8576b"
            ],
            [
             0.6666666666666666,
             "#ed7953"
            ],
            [
             0.7777777777777778,
             "#fb9f3a"
            ],
            [
             0.8888888888888888,
             "#fdca26"
            ],
            [
             1,
             "#f0f921"
            ]
           ],
           "sequentialminus": [
            [
             0,
             "#0d0887"
            ],
            [
             0.1111111111111111,
             "#46039f"
            ],
            [
             0.2222222222222222,
             "#7201a8"
            ],
            [
             0.3333333333333333,
             "#9c179e"
            ],
            [
             0.4444444444444444,
             "#bd3786"
            ],
            [
             0.5555555555555556,
             "#d8576b"
            ],
            [
             0.6666666666666666,
             "#ed7953"
            ],
            [
             0.7777777777777778,
             "#fb9f3a"
            ],
            [
             0.8888888888888888,
             "#fdca26"
            ],
            [
             1,
             "#f0f921"
            ]
           ]
          },
          "colorway": [
           "#636efa",
           "#EF553B",
           "#00cc96",
           "#ab63fa",
           "#FFA15A",
           "#19d3f3",
           "#FF6692",
           "#B6E880",
           "#FF97FF",
           "#FECB52"
          ],
          "font": {
           "color": "#2a3f5f"
          },
          "geo": {
           "bgcolor": "white",
           "lakecolor": "white",
           "landcolor": "white",
           "showlakes": true,
           "showland": true,
           "subunitcolor": "#C8D4E3"
          },
          "hoverlabel": {
           "align": "left"
          },
          "hovermode": "closest",
          "mapbox": {
           "style": "light"
          },
          "paper_bgcolor": "white",
          "plot_bgcolor": "white",
          "polar": {
           "angularaxis": {
            "gridcolor": "#EBF0F8",
            "linecolor": "#EBF0F8",
            "ticks": ""
           },
           "bgcolor": "white",
           "radialaxis": {
            "gridcolor": "#EBF0F8",
            "linecolor": "#EBF0F8",
            "ticks": ""
           }
          },
          "scene": {
           "xaxis": {
            "backgroundcolor": "white",
            "gridcolor": "#DFE8F3",
            "gridwidth": 2,
            "linecolor": "#EBF0F8",
            "showbackground": true,
            "ticks": "",
            "zerolinecolor": "#EBF0F8"
           },
           "yaxis": {
            "backgroundcolor": "white",
            "gridcolor": "#DFE8F3",
            "gridwidth": 2,
            "linecolor": "#EBF0F8",
            "showbackground": true,
            "ticks": "",
            "zerolinecolor": "#EBF0F8"
           },
           "zaxis": {
            "backgroundcolor": "white",
            "gridcolor": "#DFE8F3",
            "gridwidth": 2,
            "linecolor": "#EBF0F8",
            "showbackground": true,
            "ticks": "",
            "zerolinecolor": "#EBF0F8"
           }
          },
          "shapedefaults": {
           "line": {
            "color": "#2a3f5f"
           }
          },
          "ternary": {
           "aaxis": {
            "gridcolor": "#DFE8F3",
            "linecolor": "#A2B1C6",
            "ticks": ""
           },
           "baxis": {
            "gridcolor": "#DFE8F3",
            "linecolor": "#A2B1C6",
            "ticks": ""
           },
           "bgcolor": "white",
           "caxis": {
            "gridcolor": "#DFE8F3",
            "linecolor": "#A2B1C6",
            "ticks": ""
           }
          },
          "title": {
           "x": 0.05
          },
          "xaxis": {
           "automargin": true,
           "gridcolor": "#EBF0F8",
           "linecolor": "#EBF0F8",
           "ticks": "",
           "title": {
            "standoff": 15
           },
           "zerolinecolor": "#EBF0F8",
           "zerolinewidth": 2
          },
          "yaxis": {
           "automargin": true,
           "gridcolor": "#EBF0F8",
           "linecolor": "#EBF0F8",
           "ticks": "",
           "title": {
            "standoff": 15
           },
           "zerolinecolor": "#EBF0F8",
           "zerolinewidth": 2
          }
         }
        },
        "title": {
         "font": {
          "color": "Black",
          "size": 22
         },
         "text": "<b>Hierarchical Clustering</b>",
         "x": 0.5,
         "xanchor": "center",
         "yanchor": "top"
        },
        "width": 380,
        "xaxis": {
         "mirror": "allticks",
         "rangemode": "tozero",
         "showgrid": false,
         "showline": true,
         "showticklabels": true,
         "tickmode": "array",
         "ticks": "outside",
         "ticktext": [
          "5_future_hope_10",
          "9_harder_need_toilet",
          "2_general_nothing_practitio...",
          "7_problems_glutenfree_intes...",
          "3_work_life_due",
          "4_pain_life_often",
          "0_glutenfree_eat_life",
          "1_diet_eating_difficult",
          "8_complaints_pain_abdominal",
          "6_really_tired_couldnt",
          "11_couldnt_keep_went",
          "10_thin_small_belly"
         ],
         "tickvals": [
          5,
          15,
          25,
          35,
          45,
          55,
          65,
          75,
          85,
          95,
          105,
          115
         ],
         "type": "linear",
         "zeroline": false
        },
        "yaxis": {
         "mirror": "allticks",
         "rangemode": "tozero",
         "showgrid": false,
         "showline": true,
         "showticklabels": true,
         "ticks": "outside",
         "type": "linear",
         "zeroline": false
        }
       }
      }
     },
     "metadata": {},
     "output_type": "display_data"
    }
   ],
   "source": [
    "#Inspect updated hierarchy \n",
    "spec_topic_model.visualize_hierarchy(orientation='bottom')"
   ]
  },
  {
   "cell_type": "code",
   "execution_count": 18,
   "metadata": {},
   "outputs": [],
   "source": [
    "#Get final topic labels\n",
    "\n",
    "LLM_out = interpret_topics()\n",
    "clean_json_str = LLM_out.replace('```json', '').replace('```', '').strip()\n",
    "with open(directory_out + '/Topic modelling/LLM_BerTopic_interpret_stella_n85_final.txt', 'w') as file: file.write(clean_json_str)"
   ]
  },
  {
   "cell_type": "code",
   "execution_count": 19,
   "metadata": {},
   "outputs": [
    {
     "data": {
      "text/plain": [
       "array([[0.10945517, 0.14871807, 0.        , ..., 0.        , 0.08030424,\n",
       "        0.        ],\n",
       "       [0.40466644, 0.27690699, 0.        , ..., 0.        , 0.        ,\n",
       "        0.        ],\n",
       "       [0.45320523, 0.1517555 , 0.        , ..., 0.15033089, 0.        ,\n",
       "        0.00933381],\n",
       "       ...,\n",
       "       [0.11748978, 0.14648972, 0.01988358, ..., 0.06065013, 0.        ,\n",
       "        0.02932277],\n",
       "       [0.12652151, 0.08809305, 0.07177341, ..., 0.05163662, 0.01558886,\n",
       "        0.01093467],\n",
       "       [0.28246413, 0.        , 0.        , ..., 0.28401856, 0.        ,\n",
       "        0.        ]])"
      ]
     },
     "execution_count": 19,
     "metadata": {},
     "output_type": "execute_result"
    }
   ],
   "source": [
    "topic_distr = spec_topic_model.approximate_distribution(texts_list)[0]\n",
    "topic_distr # continue to use later\n"
   ]
  },
  {
   "cell_type": "code",
   "execution_count": null,
   "metadata": {},
   "outputs": [],
   "source": [
    "#get Final C_v, silhouette, and diversity\n",
    "\n",
    "# Get the topic embeddings from BERTopic model\n",
    "topic_embeddings = spec_topic_model.topic_embeddings_\n",
    "\n",
    "# Calculate pairwise cosine similarities between topic embeddings\n",
    "cos_sim_matrix = cosine_similarity(topic_embeddings)\n",
    "\n",
    "# To measure diversity\n",
    "diversity_matrix = 1 - cos_sim_matrix\n",
    "\n",
    "# Calculate average cosine dissimilarity (diversity)\n",
    "average_diversity = np.mean(diversity_matrix[np.triu_indices_from(diversity_matrix, k=1)])\n",
    "print(f\"Average Topic Diversity (Cosine Dissimilarity): {average_diversity}\")\n",
    "\n",
    "# Prepare the top words per topic for coherence calculation\n",
    "topics = spec_topic_model.get_topics()  # Get the topics\n",
    "top_words = [[word for word, _ in topics[i]] for i in range(len(topics)) if topics[i]]\n",
    "\n",
    "# Convert split_texts into a list of lists (each document as a list of words)\n",
    "texts_as_lists = [doc.split() for doc in split_texts]  \n",
    "\n",
    "# Create a Gensim Dictionary\n",
    "dictionary = Dictionary(texts_as_lists)\n",
    "\n",
    "# Calculate different coherence scores\n",
    "coherence_types = ['c_v']  # Add more types as needed , 'u_mass'\n",
    "coherence_scores = {}\n",
    "\n",
    "for coherence_type in coherence_types:\n",
    "    coherence_model = CoherenceModel(topics=top_words, texts=texts_as_lists, dictionary=dictionary, coherence=coherence_type)\n",
    "    coherence_scores[coherence_type] = coherence_model.get_coherence()\n",
    "\n",
    "\n",
    "\n",
    "# Print the coherence scores\n",
    "for c_type, score in coherence_scores.items():\n",
    "    print(f'Topic Coherence ({c_type}): {score}')\n",
    "\n",
    "\n",
    "# Extract UMAP reduced embeddings from the BERTopic model\n",
    "reduced_embeddings = spec_topic_model.umap_model.embedding_\n",
    "topic_labels = spec_topics\n",
    "\n",
    "# Calculate the silhouette score \n",
    "silhouette_avg = silhouette_score(reduced_embeddings, topic_labels, metric='cosine')\n",
    "print(f'Silhouette score: {silhouette_avg}')\n",
    "\n"
   ]
  },
  {
   "cell_type": "code",
   "execution_count": 21,
   "metadata": {},
   "outputs": [],
   "source": [
    "\n",
    "LLM_out_json = json.loads(clean_json_str)\n",
    "\n",
    "\n",
    "# Prepare the data for DataFrame\n",
    "rows = []\n",
    "for topic_key, topic_value in LLM_out_json['topics'].items():\n",
    "    row = {\n",
    "        'Topic': topic_key,\n",
    "        'Label': topic_value['label'],\n",
    "        'Justification': topic_value['justification'],\n",
    "        'Representative Words': topic_value['representative_words']\n",
    "    }\n",
    "    rows.append(row)\n",
    "\n",
    "# Create the DataFrame\n",
    "LLM_out_df = pd.DataFrame(rows)\n",
    "\n",
    "\n",
    "colnames = LLM_out_df['Label'].tolist()\n",
    "topic_distr_df = pd.DataFrame(topic_distr, columns= colnames)\n",
    "# topic_distr_df = pd.DataFrame(topic_distr, columns= colnames[1:len(colnames)]) # if topics include topic -1, use this, otherwise, use above\n",
    "\n",
    "topic_distr_df.to_excel(directory_out + \"/Topic modelling/BerTopic_distributions_stella_n85_EN.xlsx\", index = False)\n",
    "\n"
   ]
  },
  {
   "cell_type": "code",
   "execution_count": null,
   "metadata": {},
   "outputs": [],
   "source": [
    "\n",
    "#The below code was used in preparatory stage to arrive at the final hyperparameters shown above (Bertopic chucks)\n",
    "\n",
    "from gensim.models import CoherenceModel\n",
    "from gensim.corpora import Dictionary\n",
    "import json\n",
    "\n",
    "\n",
    "# Define the range of components and clusters to loop over\n",
    "n_components_range = range(2, 20)\n",
    "n_clusters_range = [5, 10, 15, 20]\n",
    "n_neighbors_range = range(2,15)\n",
    "# Function to calculate coherence scores\n",
    "def calculate_coherence(topics, texts, dictionary):\n",
    "    #coherence_types = ['c_v', 'u_mass']\n",
    "    coherence_types = ['c_v']\n",
    "    coherence_scores = {}\n",
    "    for coherence_type in coherence_types:\n",
    "        coherence_model = CoherenceModel(topics=topics, texts=texts, dictionary=dictionary, coherence=coherence_type)\n",
    "        coherence_scores[coherence_type] = coherence_model.get_coherence()\n",
    "    return coherence_scores\n",
    "\n",
    "# Initialize a list to store results\n",
    "results = []\n",
    "\n",
    "# Prepare texts and dictionary for coherence score calculation\n",
    "texts_as_lists = [doc.split() for doc in split_texts]  # Tokenized documents\n",
    "dictionary = Dictionary(texts_as_lists)\n",
    "\n",
    "# Loop over UMAP n_components and SpectralClustering n_clusters\n",
    "\n",
    "for n_components in n_components_range:\n",
    "    for n_neighbors in n_neighbors_range:\n",
    "        for n_clusters in n_clusters_range:\n",
    "            # Dimensionality reduction with UMAP\n",
    "            umap_model = UMAP(min_dist= 0.0, n_neighbors=n_neighbors, n_components=n_components, metric='cosine', random_state=42)\n",
    "            \n",
    "            # Clustering with SpectralClustering\n",
    "            hdbscan_model = SpectralClustering(random_state=42, n_clusters=n_clusters)\n",
    "            \n",
    "            vectorizer_model = CountVectorizer(stop_words=stop_words)\n",
    "\n",
    "            # Fit BERTopic model\n",
    "            spec_topic_model = BERTopic(umap_model=umap_model, \n",
    "                                        hdbscan_model=hdbscan_model, \n",
    "                                        vectorizer_model=vectorizer_model, \n",
    "                                        calculate_probabilities=True, \n",
    "                                        top_n_words=15)\n",
    "            \n",
    "            spec_topics, probs = spec_topic_model.fit_transform(split_texts, embeddings=embeddings)\n",
    "            \n",
    "            # Get reduced embeddings and topic labels\n",
    "            reduced_embeddings = spec_topic_model.umap_model.embedding_\n",
    "            topic_labels = spec_topics\n",
    "            \n",
    "            # Calculate silhouette and Davies-Bouldin scores\n",
    "            silhouette_avg = silhouette_score(reduced_embeddings, topic_labels, metric='cosine')\n",
    "            #db_score = davies_bouldin_score(reduced_embeddings, topic_labels)\n",
    "            \n",
    "            # Prepare topics for coherence calculation\n",
    "            topics = spec_topic_model.get_topics()\n",
    "            top_words = [[word for word, _ in topics[i]] for i in range(len(topics)) if topics[i]]\n",
    "            \n",
    "            # Calculate coherence scores\n",
    "            coherence_scores = calculate_coherence(top_words, texts_as_lists, dictionary)\n",
    "            \n",
    "            # Get the topic embeddings from BERTopic model\n",
    "            topic_embeddings = spec_topic_model.topic_embeddings_\n",
    "            # Calculate pairwise cosine similarities between topic embeddings\n",
    "            cos_sim_matrix = cosine_similarity(topic_embeddings)\n",
    "            # To measure diversity\n",
    "            diversity_matrix = 1 - cos_sim_matrix\n",
    "            # Calculate average cosine dissimilarity (diversity)\n",
    "            average_diversity = np.mean(diversity_matrix[np.triu_indices_from(diversity_matrix, k=1)])\n",
    "\n",
    "            # Get topic descriptions and convert to JSON\n",
    "            topics_descriptions = spec_topic_model.get_topic_info()\n",
    "            topics_descriptions_json = topics_descriptions.drop(columns=['Count', 'Name']).to_json(orient='records')\n",
    "        \n",
    "            \n",
    "            # Save the results in a dictionary\n",
    "            results.append({\n",
    "                'chunk_size': chunk_size,\n",
    "                'n_neigh': n_neighbors,\n",
    "                'n_components': n_components,\n",
    "                'n_clusters': n_clusters,\n",
    "                'silhouette_score': silhouette_avg,\n",
    "                'c_v_score': coherence_scores['c_v'],\n",
    "                'diversity': average_diversity,\n",
    "                'topics_descriptions_json': topics_descriptions_json #,\n",
    "            })\n",
    "\n",
    "# Create a DataFrame from the results list\n",
    "df_results = pd.DataFrame(results)\n",
    "\n",
    "# Save the DataFrame to an Excel file\n",
    "df_results.to_excel(directory_out + \"/Topic modelling/TM_comparisons_stella_n85_EN_\" + str(chunk_size) + \"mindist0.xlsx\", index=False)\n",
    "\n"
   ]
  }
 ],
 "metadata": {
  "kernelspec": {
   "display_name": "base",
   "language": "python",
   "name": "python3"
  },
  "language_info": {
   "codemirror_mode": {
    "name": "ipython",
    "version": 3
   },
   "file_extension": ".py",
   "mimetype": "text/x-python",
   "name": "python",
   "nbconvert_exporter": "python",
   "pygments_lexer": "ipython3",
   "version": "3.12.4"
  }
 },
 "nbformat": 4,
 "nbformat_minor": 4
}
