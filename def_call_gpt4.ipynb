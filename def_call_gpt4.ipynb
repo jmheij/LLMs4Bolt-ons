{
 "cells": [
  {
   "cell_type": "code",
   "execution_count": 3,
   "metadata": {},
   "outputs": [],
   "source": [
    "from openai import AzureOpenAI\n",
    "import openpyxl\n",
    "from openpyxl import Workbook\n",
    "import os\n",
    "\n",
    "# Set your OpenAI API key\n",
    "# openai.api_key = 'your-openai-api-key'\n",
    "\n",
    "# Create or load the Excel workbook\n",
    "file_path = 'gpt4_api_calls.xlsx'\n",
    "if os.path.exists(file_path):\n",
    "    workbook = openpyxl.load_workbook(file_path)\n",
    "    sheet = workbook.active\n",
    "else:\n",
    "    workbook = Workbook()\n",
    "    sheet = workbook.active\n",
    "    sheet.append(['Call Number', 'Prompt', 'Output Text', 'Model', 'Temperature', 'Max Tokens', 'Top P', 'Frequency Penalty', 'Presence Penalty'])"
   ]
  },
  {
   "cell_type": "code",
   "execution_count": 4,
   "metadata": {},
   "outputs": [],
   "source": [
    "client = AzureOpenAI(\n",
    "  azure_endpoint = os.getenv(\"AZURE_OPENAI_ENDPOINT\"), \n",
    "  api_key=os.getenv(\"AZURE_OPENAI_API_KEY\"),  \n",
    "  api_version=\"2024-02-01\"\n",
    ")"
   ]
  },
  {
   "cell_type": "code",
   "execution_count": 5,
   "metadata": {},
   "outputs": [],
   "source": [
    "# Function to log API call details to the Excel file\n",
    "def log_to_excel(call_number, model, call_id, messages, prompt, response, temperature, seed, max_tokens, usage, filter):\n",
    "    row = [\n",
    "        call_number,\n",
    "        model,\n",
    "        call_id,\n",
    "        messages,\n",
    "        prompt,\n",
    "        response,\n",
    "        temperature,\n",
    "        seed,\n",
    "        max_tokens,\n",
    "        usage,\n",
    "        filter\n",
    "    ]\n",
    "    sheet.append(row)\n",
    "    workbook.save(file_path)\n"
   ]
  },
  {
   "cell_type": "code",
   "execution_count": 6,
   "metadata": {},
   "outputs": [],
   "source": [
    "\n",
    "# Function to call the OpenAI API and log the response\n",
    "def call_gpt4(model, messages, temperature, seed, max_tokens):\n",
    "    call_number = sheet.max_row  # Call number is the current row count\n",
    "    response = client.chat.completions.create(\n",
    "        model = model,\n",
    "        seed = seed,\n",
    "        messages = messages,\n",
    "        temperature=temperature,\n",
    "        max_tokens=max_tokens\n",
    "    )\n",
    "    log_to_excel(call_number, model, response.id, str(messages), messages[-1][\"content\"], str(response.choices[0].message.content), temperature, seed, max_tokens, str(response.usage), str(response.prompt_filter_results))\n",
    "    return response"
   ]
  }
 ],
 "metadata": {
  "kernelspec": {
   "display_name": "Python 3",
   "language": "python",
   "name": "python3"
  },
  "language_info": {
   "codemirror_mode": {
    "name": "ipython",
    "version": 3
   },
   "file_extension": ".py",
   "mimetype": "text/x-python",
   "name": "python",
   "nbconvert_exporter": "python",
   "pygments_lexer": "ipython3",
   "version": "3.12.4"
  }
 },
 "nbformat": 4,
 "nbformat_minor": 2
}
